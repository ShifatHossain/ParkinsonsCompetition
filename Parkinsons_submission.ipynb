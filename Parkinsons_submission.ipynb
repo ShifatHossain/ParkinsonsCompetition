{
 "cells": [
  {
   "cell_type": "code",
   "execution_count": 1,
   "id": "89c2fc36-3cf9-4fdf-90f8-f2071fcb8979",
   "metadata": {
    "tags": []
   },
   "outputs": [],
   "source": [
    "import numpy as np\n",
    "import pandas as pd\n",
    "import matplotlib.pyplot as plt\n",
    "\n",
    "import os\n",
    "\n",
    "import xgboost\n",
    "from sklearn import metrics\n",
    "\n",
    "from scipy.signal import argrelmax, argrelmin\n",
    "\n",
    "import pickle"
   ]
  },
  {
   "cell_type": "markdown",
   "id": "b10d9c54-cee2-44c1-a4f7-0270fb5cb5f7",
   "metadata": {},
   "source": [
    "## Dataset pre-processing"
   ]
  },
  {
   "cell_type": "markdown",
   "id": "a702c5f8-83ff-477c-bbaa-dbabb3fc10b2",
   "metadata": {},
   "source": [
    "### Misc Data"
   ]
  },
  {
   "cell_type": "code",
   "execution_count": 2,
   "id": "4234fd3b-33c6-4f53-8d24-8fa957f06e85",
   "metadata": {
    "tags": []
   },
   "outputs": [],
   "source": [
    "defog_meta = pd.read_csv('./defog_metadata.csv')\n",
    "tdcsfog_meta = pd.read_csv('./tdcsfog_metadata.csv')\n",
    "sub_meta = pd.read_csv('./subjects.csv')\n",
    "sub_meta = sub_meta.drop_duplicates(subset=['Subject'])"
   ]
  },
  {
   "cell_type": "code",
   "execution_count": 3,
   "id": "77513cda-3993-4543-a302-807743f8c6e7",
   "metadata": {
    "tags": []
   },
   "outputs": [
    {
     "data": {
      "text/html": [
       "<div>\n",
       "<style scoped>\n",
       "    .dataframe tbody tr th:only-of-type {\n",
       "        vertical-align: middle;\n",
       "    }\n",
       "\n",
       "    .dataframe tbody tr th {\n",
       "        vertical-align: top;\n",
       "    }\n",
       "\n",
       "    .dataframe thead th {\n",
       "        text-align: right;\n",
       "    }\n",
       "</style>\n",
       "<table border=\"1\" class=\"dataframe\">\n",
       "  <thead>\n",
       "    <tr style=\"text-align: right;\">\n",
       "      <th></th>\n",
       "      <th>Id</th>\n",
       "      <th>Subject</th>\n",
       "      <th>Visit</th>\n",
       "      <th>Medication</th>\n",
       "    </tr>\n",
       "  </thead>\n",
       "  <tbody>\n",
       "    <tr>\n",
       "      <th>0</th>\n",
       "      <td>02ab235146</td>\n",
       "      <td>ab54e1</td>\n",
       "      <td>2</td>\n",
       "      <td>on</td>\n",
       "    </tr>\n",
       "  </tbody>\n",
       "</table>\n",
       "</div>"
      ],
      "text/plain": [
       "           Id Subject  Visit Medication\n",
       "0  02ab235146  ab54e1      2         on"
      ]
     },
     "execution_count": 3,
     "metadata": {},
     "output_type": "execute_result"
    }
   ],
   "source": [
    "defog_meta.loc[defog_meta['Id'] == '02ab235146']"
   ]
  },
  {
   "cell_type": "code",
   "execution_count": 4,
   "id": "29ca61b4-6872-4fbb-863c-8787c920587a",
   "metadata": {
    "tags": []
   },
   "outputs": [
    {
     "data": {
      "text/html": [
       "<div>\n",
       "<style scoped>\n",
       "    .dataframe tbody tr th:only-of-type {\n",
       "        vertical-align: middle;\n",
       "    }\n",
       "\n",
       "    .dataframe tbody tr th {\n",
       "        vertical-align: top;\n",
       "    }\n",
       "\n",
       "    .dataframe thead th {\n",
       "        text-align: right;\n",
       "    }\n",
       "</style>\n",
       "<table border=\"1\" class=\"dataframe\">\n",
       "  <thead>\n",
       "    <tr style=\"text-align: right;\">\n",
       "      <th></th>\n",
       "      <th>Subject</th>\n",
       "      <th>Visit</th>\n",
       "      <th>Age</th>\n",
       "      <th>Sex</th>\n",
       "      <th>YearsSinceDx</th>\n",
       "      <th>UPDRSIII_On</th>\n",
       "      <th>UPDRSIII_Off</th>\n",
       "      <th>NFOGQ</th>\n",
       "    </tr>\n",
       "  </thead>\n",
       "  <tbody>\n",
       "    <tr>\n",
       "      <th>93</th>\n",
       "      <td>ab54e1</td>\n",
       "      <td>1.0</td>\n",
       "      <td>79</td>\n",
       "      <td>F</td>\n",
       "      <td>8.0</td>\n",
       "      <td>52.0</td>\n",
       "      <td>55.0</td>\n",
       "      <td>28</td>\n",
       "    </tr>\n",
       "  </tbody>\n",
       "</table>\n",
       "</div>"
      ],
      "text/plain": [
       "   Subject  Visit  Age Sex  YearsSinceDx  UPDRSIII_On  UPDRSIII_Off  NFOGQ\n",
       "93  ab54e1    1.0   79   F           8.0         52.0          55.0     28"
      ]
     },
     "execution_count": 4,
     "metadata": {},
     "output_type": "execute_result"
    }
   ],
   "source": [
    "sub_meta.loc[sub_meta['Subject'] == 'ab54e1']"
   ]
  },
  {
   "cell_type": "code",
   "execution_count": 5,
   "id": "e57c81d4-8ba0-4375-b2f5-9bb42dc4fc54",
   "metadata": {
    "tags": []
   },
   "outputs": [
    {
     "data": {
      "text/html": [
       "<div>\n",
       "<style scoped>\n",
       "    .dataframe tbody tr th:only-of-type {\n",
       "        vertical-align: middle;\n",
       "    }\n",
       "\n",
       "    .dataframe tbody tr th {\n",
       "        vertical-align: top;\n",
       "    }\n",
       "\n",
       "    .dataframe thead th {\n",
       "        text-align: right;\n",
       "    }\n",
       "</style>\n",
       "<table border=\"1\" class=\"dataframe\">\n",
       "  <thead>\n",
       "    <tr style=\"text-align: right;\">\n",
       "      <th></th>\n",
       "      <th>Id</th>\n",
       "      <th>Subject</th>\n",
       "      <th>Visit</th>\n",
       "      <th>Test</th>\n",
       "      <th>Medication</th>\n",
       "    </tr>\n",
       "  </thead>\n",
       "  <tbody>\n",
       "    <tr>\n",
       "      <th>0</th>\n",
       "      <td>003f117e14</td>\n",
       "      <td>13abfd</td>\n",
       "      <td>3</td>\n",
       "      <td>2</td>\n",
       "      <td>on</td>\n",
       "    </tr>\n",
       "  </tbody>\n",
       "</table>\n",
       "</div>"
      ],
      "text/plain": [
       "           Id Subject  Visit  Test Medication\n",
       "0  003f117e14  13abfd      3     2         on"
      ]
     },
     "execution_count": 5,
     "metadata": {},
     "output_type": "execute_result"
    }
   ],
   "source": [
    "tdcsfog_meta.loc[tdcsfog_meta['Id'] == '003f117e14']"
   ]
  },
  {
   "cell_type": "code",
   "execution_count": 6,
   "id": "af8039de-00ef-4361-8958-4aed82a5c475",
   "metadata": {
    "tags": []
   },
   "outputs": [
    {
     "data": {
      "text/html": [
       "<div>\n",
       "<style scoped>\n",
       "    .dataframe tbody tr th:only-of-type {\n",
       "        vertical-align: middle;\n",
       "    }\n",
       "\n",
       "    .dataframe tbody tr th {\n",
       "        vertical-align: top;\n",
       "    }\n",
       "\n",
       "    .dataframe thead th {\n",
       "        text-align: right;\n",
       "    }\n",
       "</style>\n",
       "<table border=\"1\" class=\"dataframe\">\n",
       "  <thead>\n",
       "    <tr style=\"text-align: right;\">\n",
       "      <th></th>\n",
       "      <th>Subject</th>\n",
       "      <th>Visit</th>\n",
       "      <th>Age</th>\n",
       "      <th>Sex</th>\n",
       "      <th>YearsSinceDx</th>\n",
       "      <th>UPDRSIII_On</th>\n",
       "      <th>UPDRSIII_Off</th>\n",
       "      <th>NFOGQ</th>\n",
       "    </tr>\n",
       "  </thead>\n",
       "  <tbody>\n",
       "    <tr>\n",
       "      <th>10</th>\n",
       "      <td>13abfd</td>\n",
       "      <td>NaN</td>\n",
       "      <td>68</td>\n",
       "      <td>F</td>\n",
       "      <td>9.0</td>\n",
       "      <td>17.0</td>\n",
       "      <td>15.0</td>\n",
       "      <td>15</td>\n",
       "    </tr>\n",
       "  </tbody>\n",
       "</table>\n",
       "</div>"
      ],
      "text/plain": [
       "   Subject  Visit  Age Sex  YearsSinceDx  UPDRSIII_On  UPDRSIII_Off  NFOGQ\n",
       "10  13abfd    NaN   68   F           9.0         17.0          15.0     15"
      ]
     },
     "execution_count": 6,
     "metadata": {},
     "output_type": "execute_result"
    }
   ],
   "source": [
    "sub_meta.loc[sub_meta['Subject'] == '13abfd']"
   ]
  },
  {
   "cell_type": "code",
   "execution_count": 7,
   "id": "a79f24e5",
   "metadata": {
    "tags": []
   },
   "outputs": [],
   "source": [
    "def extract_45(single_waveform, sample_rate=100):\n",
    "    def __next_pow2(x):\n",
    "        return 1<<(x-1).bit_length()\n",
    "    features = []\n",
    "    maxima_index = argrelmax(np.array(single_waveform))[0]\n",
    "    minima_index = argrelmin(np.array(single_waveform))[0]\n",
    "    derivative_1 = np.diff(single_waveform, n=1) * float(sample_rate)\n",
    "    derivative_2 = np.diff(single_waveform, n=2) * float(sample_rate)\n",
    "    sp_mag = np.abs(np.fft.fft(single_waveform, n=__next_pow2(len(single_waveform))*16))\n",
    "    freqs = np.fft.fftfreq(len(sp_mag))\n",
    "    sp_mag_maxima_index = argrelmax(sp_mag)[0]\n",
    "    # x 0\n",
    "    x = single_waveform[maxima_index[0]]\n",
    "    features.append(x)\n",
    "    # y 1\n",
    "    y = single_waveform[maxima_index[1]]\n",
    "    features.append(y)\n",
    "    # z 2\n",
    "    z = single_waveform[minima_index[0]]\n",
    "    features.append(z)\n",
    "    # f_base 39\n",
    "    f_base = freqs[sp_mag_maxima_index[0]] * sample_rate\n",
    "    features.append(f_base)\n",
    "    # sp_mag_base 40\n",
    "    sp_mag_base = sp_mag[sp_mag_maxima_index[0]] / len(single_waveform)\n",
    "    features.append(sp_mag_base)\n",
    "    # f_2 41\n",
    "    f_2 = freqs[sp_mag_maxima_index[1]] * sample_rate\n",
    "    features.append(f_2)\n",
    "    # sp_mag_2 42\n",
    "    sp_mag_2 = sp_mag[sp_mag_maxima_index[1]] / len(single_waveform)\n",
    "    features.append(sp_mag_2)\n",
    "    # f_3 43\n",
    "    f_3 = freqs[sp_mag_maxima_index[2]] * sample_rate\n",
    "    features.append(f_3)\n",
    "    # sp_mag_3 44\n",
    "    sp_mag_3 = sp_mag[sp_mag_maxima_index[2]] / len(single_waveform)\n",
    "    features.append(sp_mag_3)\n",
    "    return features\n"
   ]
  },
  {
   "cell_type": "code",
   "execution_count": 8,
   "id": "6265d13d-d372-43ec-934e-24799c6e2c95",
   "metadata": {
    "tags": []
   },
   "outputs": [],
   "source": [
    "def calFeatMat(sig,window=400,sr=100):\n",
    "\n",
    "    featmat = np.zeros((len(sig),9))\n",
    "    featflag = np.zeros((len(sig)),dtype=np.bool_)\n",
    "    for i in range(window,len(sig)):\n",
    "        tsig = sig[i:window+i]\n",
    "        try:\n",
    "            featmat[window+i] = extract_45(tsig,sample_rate=sr)\n",
    "            featflag[window+i] = True\n",
    "        except:\n",
    "            pass\n",
    "\n",
    "    received = False\n",
    "    for i in np.flip(np.arange(len(sig))):\n",
    "        if not featflag[i]:\n",
    "            if not received:\n",
    "                continue\n",
    "            featmat[i] = tval\n",
    "            featflag[i] = True\n",
    "        if featflag[i]:\n",
    "            tval = featmat[i]\n",
    "            received = True\n",
    "\n",
    "    received = False\n",
    "    for i in np.arange(len(sig)):\n",
    "        if not featflag[i]:\n",
    "            if not received:\n",
    "                continue\n",
    "            featmat[i] = tval\n",
    "            featflag[i] = True\n",
    "        if featflag[i]:\n",
    "            tval = featmat[i]\n",
    "            received = True\n",
    "            \n",
    "    return featmat\n",
    "\n",
    "def accFeatMats(pdat,sr=100):\n",
    "    accML = calFeatMat(pdat['AccML'].to_numpy(),sr)\n",
    "\n",
    "    clms = ['0','1','2','39','40','41','42','43','44']\n",
    "    \n",
    "    allFeat = accML\n",
    "    return pd.DataFrame(allFeat,columns=clms)"
   ]
  },
  {
   "cell_type": "markdown",
   "id": "a281b884-4972-4566-a351-da011411fb2d",
   "metadata": {},
   "source": [
    "## Train dataset"
   ]
  },
  {
   "cell_type": "code",
   "execution_count": 9,
   "id": "8a3a15cd-3cf1-491e-84cb-6cc0a2d7ddae",
   "metadata": {
    "tags": []
   },
   "outputs": [],
   "source": [
    "split_cols = ['Time', 'AccV', 'AccML', 'AccAP', 'StartHesitation', 'Turn', 'Walking', 'Subject', 'Medication', 'Age', 'Sex', 'YearsSinceDx', 'NFOGQ', '0','1','2','39','40','41','42','43','44']\n",
    "mod_cols = ['AccAP','0','2','40','1','Age','39','42','44','YearsSinceDx','NFOGQ','Medication','AccV','AccML','41','43']"
   ]
  },
  {
   "cell_type": "markdown",
   "id": "505ff87a-8a06-417e-8ada-42efa8d53d0e",
   "metadata": {},
   "source": [
    "### defog"
   ]
  },
  {
   "cell_type": "code",
   "execution_count": 10,
   "id": "718f2f37-5dec-4fd0-b6dc-5e90046e172d",
   "metadata": {
    "tags": []
   },
   "outputs": [],
   "source": [
    "drloc = './train/defog/'\n",
    "dataset_defog = pd.DataFrame()\n",
    "for i in os.listdir(drloc):\n",
    "    fnm = drloc + i\n",
    "    pdat = pd.read_csv(fnm)\n",
    "    feats = accFeatMats(pdat,100)\n",
    "    pdat = pd.concat([pdat,feats],axis=1)\n",
    "    pdat['ID'] = i.split('.')[0]\n",
    "    dataset_defog = pd.concat([dataset_defog,pdat])"
   ]
  },
  {
   "cell_type": "code",
   "execution_count": 11,
   "id": "8873cbc0-f3f9-4f26-b46a-6cf4a2d5c2ff",
   "metadata": {
    "tags": []
   },
   "outputs": [],
   "source": [
    "dataset_defog_f = dataset_defog.loc[dataset_defog['Valid'] == True]\n",
    "dataset_defog_f = dataset_defog_f.loc[dataset_defog_f['Task'] == True]\n",
    "dataset_defog_f = dataset_defog_f.drop(['Valid','Task'],axis=1)\n",
    "dataset_defog_f = dataset_defog_f.reset_index(drop=True)"
   ]
  },
  {
   "cell_type": "code",
   "execution_count": 12,
   "id": "dfa358d6-c264-4bdc-b71b-e632e0d9d07b",
   "metadata": {
    "tags": []
   },
   "outputs": [],
   "source": [
    "dataset_defog_sub = dataset_defog_f.merge(defog_meta,left_on='ID',right_on='Id').drop(['Visit'],axis=1)\n",
    "dataset_defog_sub = dataset_defog_sub.merge(sub_meta,left_on='Subject',right_on='Subject',how='left')\n",
    "dataset_defog_sub = dataset_defog_sub.drop(['ID','Id','Visit','UPDRSIII_On','UPDRSIII_Off'],axis=1)\n",
    "\n",
    "# Sex male and female converted to -1 and 1\n",
    "dataset_defog_sub = dataset_defog_sub.replace('M',-1)\n",
    "dataset_defog_sub = dataset_defog_sub.replace('F',1)\n",
    "\n",
    "# Medication on and off converted to 1 and -1\n",
    "dataset_defog_sub = dataset_defog_sub.replace('on',1)\n",
    "dataset_defog_sub = dataset_defog_sub.replace('off',-1)\n",
    "\n",
    "# Remove NaN\n",
    "dataset_defog_sub = dataset_defog_sub.dropna()\n",
    "\n",
    "# dataset_defog_sub.to_csv('combined_defog_m.csv',index=False)\n",
    "# dataset_defog_sub"
   ]
  },
  {
   "cell_type": "code",
   "execution_count": 13,
   "id": "4e2f8e7c-a6de-4b33-9d90-eb3ba5424a88",
   "metadata": {
    "tags": []
   },
   "outputs": [],
   "source": [
    "idsl = pd.DataFrame(dataset_defog_sub['Subject'].unique())\n",
    "ids_train = idsl.sample(frac = 0.8)\n",
    "ids_valid = idsl.drop(ids_train.index)\n",
    "\n",
    "train_defog = pd.DataFrame(columns=split_cols)\n",
    "for v in ids_train[0]:\n",
    "    tpddf = dataset_defog_sub.loc[dataset_defog_sub['Subject'] == v]\n",
    "    train_defog = pd.concat([train_defog,tpddf])\n",
    "train_defog = train_defog.drop(['Subject'],axis=1)\n",
    "train_defog = train_defog.reset_index(drop=True)\n",
    "train_defog = train_defog.astype('float64')\n",
    "X_train_defog = train_defog[mod_cols]\n",
    "y_train_defog = train_defog[['StartHesitation', 'Turn', 'Walking']]\n",
    "\n",
    "valid_defog = pd.DataFrame(columns=split_cols)\n",
    "for v in ids_valid[0]:\n",
    "    tpddf = dataset_defog_sub.loc[dataset_defog_sub['Subject'] == v]\n",
    "    valid_defog = pd.concat([valid_defog,tpddf])\n",
    "valid_defog = valid_defog.drop(['Subject'],axis=1)\n",
    "valid_defog = valid_defog.reset_index(drop=True)\n",
    "valid_defog = valid_defog.astype('float64')\n",
    "X_valid_defog = valid_defog[mod_cols]\n",
    "y_valid_defog = valid_defog[['StartHesitation', 'Turn', 'Walking']]\n",
    "\n",
    "X_defog = pd.concat([X_train_defog,X_valid_defog])\n",
    "y_defog = pd.concat([y_train_defog,y_valid_defog])"
   ]
  },
  {
   "cell_type": "markdown",
   "id": "9b80fb7d-6490-4374-9595-22b019d4b5ae",
   "metadata": {},
   "source": [
    "### tdcsfog"
   ]
  },
  {
   "cell_type": "code",
   "execution_count": 15,
   "id": "0a17f60e-a6c2-4caf-8c50-793627bede43",
   "metadata": {
    "tags": []
   },
   "outputs": [],
   "source": [
    "drloc = './train/tdcsfog/'\n",
    "dataset_tdcsfog = pd.DataFrame()\n",
    "for i in os.listdir(drloc):\n",
    "    fnm = drloc + i\n",
    "    pdat = pd.read_csv(fnm)\n",
    "    feats = accFeatMats(pdat,128)\n",
    "    pdat = pd.concat([pdat,feats],axis=1)\n",
    "    pdat['ID'] = i.split('.')[0]\n",
    "    dataset_tdcsfog = pd.concat([dataset_tdcsfog,pdat])"
   ]
  },
  {
   "cell_type": "code",
   "execution_count": 16,
   "id": "cef25c1b-933a-4ba9-b1f4-0b19606ed23c",
   "metadata": {
    "tags": []
   },
   "outputs": [],
   "source": [
    "dataset_tdcsfog_f = dataset_tdcsfog.reset_index(drop=True)"
   ]
  },
  {
   "cell_type": "code",
   "execution_count": 17,
   "id": "250d2f7f-a59e-48b6-95e3-00fdf4e42622",
   "metadata": {
    "tags": []
   },
   "outputs": [],
   "source": [
    "dataset_tdcsfog_sub = dataset_tdcsfog_f.merge(tdcsfog_meta,left_on='ID',right_on='Id').drop(['Visit'],axis=1)\n",
    "dataset_tdcsfog_sub = dataset_tdcsfog_sub.merge(sub_meta,left_on='Subject',right_on='Subject',how='left')\n",
    "dataset_tdcsfog_sub = dataset_tdcsfog_sub.drop(['ID','Id','Visit','Test','UPDRSIII_On','UPDRSIII_Off'],axis=1)\n",
    "\n",
    "# Sex male and female converted to -1 and 1\n",
    "dataset_tdcsfog_sub = dataset_tdcsfog_sub.replace('M',-1)\n",
    "dataset_tdcsfog_sub = dataset_tdcsfog_sub.replace('F',1)\n",
    "\n",
    "\n",
    "# Medication on and off converted to 1 and -1\n",
    "dataset_tdcsfog_sub = dataset_tdcsfog_sub.replace('on',1)\n",
    "dataset_tdcsfog_sub = dataset_tdcsfog_sub.replace('off',-1)\n",
    "\n",
    "# Remove NaN\n",
    "dataset_tdcsfog_sub = dataset_tdcsfog_sub.dropna()\n",
    "\n",
    "# dataset_tdcsfog_sub.to_csv('combined_tdcsfog_m.csv',index=False)\n",
    "# dataset_tdcsfog_sub"
   ]
  },
  {
   "cell_type": "code",
   "execution_count": 18,
   "id": "8c1c4674-3e26-47dc-b386-f49920c175b0",
   "metadata": {
    "tags": []
   },
   "outputs": [],
   "source": [
    "idsl = pd.DataFrame(dataset_tdcsfog_sub['Subject'].unique())\n",
    "ids_train = idsl.sample(frac = 0.8)\n",
    "ids_valid = idsl.drop(ids_train.index)\n",
    "\n",
    "train_tdcsfog = pd.DataFrame(columns=split_cols)\n",
    "for v in ids_train[0]:\n",
    "    tpddf = dataset_tdcsfog_sub.loc[dataset_tdcsfog_sub['Subject'] == v]\n",
    "    train_tdcsfog = pd.concat([train_tdcsfog,tpddf])\n",
    "train_tdcsfog = train_tdcsfog.drop(['Subject'],axis=1)\n",
    "train_tdcsfog = train_tdcsfog.reset_index(drop=True)\n",
    "train_tdcsfog = train_tdcsfog.astype('float64')\n",
    "X_train_tdcsfog = train_tdcsfog[mod_cols]\n",
    "y_train_tdcsfog = train_tdcsfog[['StartHesitation', 'Turn', 'Walking']]\n",
    "\n",
    "valid_tdcsfog = pd.DataFrame(columns=split_cols)\n",
    "for v in ids_valid[0]:\n",
    "    tpddf = dataset_tdcsfog_sub.loc[dataset_tdcsfog_sub['Subject'] == v]\n",
    "    valid_tdcsfog = pd.concat([valid_tdcsfog,tpddf])\n",
    "valid_tdcsfog = valid_tdcsfog.drop(['Subject'],axis=1)\n",
    "valid_tdcsfog = valid_tdcsfog.reset_index(drop=True)\n",
    "valid_tdcsfog = valid_tdcsfog.astype('float64')\n",
    "X_valid_tdcsfog = valid_tdcsfog[mod_cols]\n",
    "y_valid_tdcsfog = valid_tdcsfog[['StartHesitation', 'Turn', 'Walking']]\n",
    "\n",
    "X_tdcsfog = pd.concat([X_train_tdcsfog,X_valid_tdcsfog])\n",
    "y_tdcsfog = pd.concat([y_train_tdcsfog,y_valid_tdcsfog])"
   ]
  },
  {
   "cell_type": "markdown",
   "id": "003fbd5d-5574-49b7-8141-950b14b71e79",
   "metadata": {},
   "source": [
    "## Test data"
   ]
  },
  {
   "cell_type": "markdown",
   "id": "49f1180e-5e68-47fa-9095-2f1be09dd067",
   "metadata": {},
   "source": [
    "### defog"
   ]
  },
  {
   "cell_type": "code",
   "execution_count": null,
   "id": "a599be1a-b9a5-4e32-806c-8e70741a7813",
   "metadata": {
    "tags": []
   },
   "outputs": [],
   "source": [
    "drloc = './test/defog/'\n",
    "dataset_defog_test = pd.DataFrame()\n",
    "for i in os.listdir(drloc):\n",
    "    fnm = drloc + i\n",
    "    pdat = pd.read_csv(fnm)\n",
    "    feats = accFeatMats(pdat,100)\n",
    "    pdat = pd.concat([pdat,feats],axis=1)\n",
    "    pdat['ID'] = i.split('.')[0]\n",
    "    dataset_defog_test = pd.concat([dataset_defog_test,pdat])"
   ]
  },
  {
   "cell_type": "code",
   "execution_count": null,
   "id": "2949f20a-8de9-4612-8ed6-1047994e82bd",
   "metadata": {
    "tags": []
   },
   "outputs": [],
   "source": [
    "dataset_defog_test_f = dataset_defog_test.reset_index(drop=True)"
   ]
  },
  {
   "cell_type": "code",
   "execution_count": null,
   "id": "e5d5399a-e6e6-4f98-837e-bbdfe03f5720",
   "metadata": {
    "tags": []
   },
   "outputs": [],
   "source": [
    "dataset_defog_sub_test = dataset_defog_test_f.merge(defog_meta,left_on='ID',right_on='Id').drop(['Visit'],axis=1)\n",
    "dataset_defog_sub_test = dataset_defog_sub_test.merge(sub_meta,left_on='Subject',right_on='Subject',how='left')\n",
    "dataset_defog_sub_test = dataset_defog_sub_test.drop(['Id','Visit','UPDRSIII_On','UPDRSIII_Off'],axis=1)\n",
    "\n",
    "# Sex male and female converted to -1 and 1\n",
    "dataset_defog_sub_test = dataset_defog_sub_test.replace('M',-1)\n",
    "dataset_defog_sub_test = dataset_defog_sub_test.replace('F',1)\n",
    "\n",
    "\n",
    "# Medication on and off converted to 1 and -1\n",
    "dataset_defog_sub_test = dataset_defog_sub_test.replace('on',1)\n",
    "dataset_defog_sub_test = dataset_defog_sub_test.replace('off',-1)\n",
    "\n",
    "# dataset_defog_sub_test.to_csv('test_defog_m.csv',index=False)\n",
    "# dataset_defog_sub_test"
   ]
  },
  {
   "cell_type": "code",
   "execution_count": null,
   "id": "7f42bb57-b476-4200-8f09-a5c44398b3ef",
   "metadata": {
    "tags": []
   },
   "outputs": [],
   "source": [
    "test_defog = dataset_defog_sub_test.drop(['Subject','ID'],axis=1)\n",
    "test_defog = test_defog.reset_index(drop=True)\n",
    "test_defog = test_defog.astype('float64')\n",
    "X_test_defog = test_defog[mod_cols]\n",
    "\n",
    "# Remove NaN\n",
    "X_test_defog = X_test_defog.dropna()\n",
    "\n",
    "X_test_defog"
   ]
  },
  {
   "cell_type": "markdown",
   "id": "a3e24878-47fc-4a2f-9b04-9e250615e66c",
   "metadata": {},
   "source": [
    "### tdcsfog"
   ]
  },
  {
   "cell_type": "code",
   "execution_count": null,
   "id": "ecc7f15a-8394-43b1-a30b-0b3b1916a9e3",
   "metadata": {
    "tags": []
   },
   "outputs": [],
   "source": [
    "drloc = './test/tdcsfog/'\n",
    "dataset_tdcsfog_test = pd.DataFrame()\n",
    "for i in os.listdir(drloc):\n",
    "    fnm = drloc + i\n",
    "    pdat = pd.read_csv(fnm)\n",
    "    feats = accFeatMats(pdat,100)\n",
    "    pdat = pd.concat([pdat,feats],axis=1)\n",
    "    pdat['ID'] = i.split('.')[0]\n",
    "    dataset_tdcsfog_test = pd.concat([dataset_tdcsfog_test,pdat])"
   ]
  },
  {
   "cell_type": "code",
   "execution_count": null,
   "id": "553b0773-4396-4c81-bedf-f9065e2d52b8",
   "metadata": {
    "tags": []
   },
   "outputs": [],
   "source": [
    "dataset_tdcsfog_test_f = dataset_tdcsfog_test.reset_index(drop=True)"
   ]
  },
  {
   "cell_type": "code",
   "execution_count": null,
   "id": "70c6fd02-9092-4b80-bc6c-de96a662f36d",
   "metadata": {
    "tags": []
   },
   "outputs": [],
   "source": [
    "dataset_tdcsfog_sub_test = dataset_tdcsfog_test_f.merge(tdcsfog_meta,left_on='ID',right_on='Id').drop(['Visit'],axis=1)\n",
    "dataset_tdcsfog_sub_test = dataset_tdcsfog_sub_test.merge(sub_meta,left_on='Subject',right_on='Subject',how='left')\n",
    "dataset_tdcsfog_sub_test = dataset_tdcsfog_sub_test.drop(['Id','Visit','UPDRSIII_On','UPDRSIII_Off'],axis=1)\n",
    "\n",
    "# Sex male and female converted to -1 and 1\n",
    "dataset_tdcsfog_sub_test = dataset_tdcsfog_sub_test.replace('M',-1)\n",
    "dataset_tdcsfog_sub_test = dataset_tdcsfog_sub_test.replace('F',1)\n",
    "\n",
    "\n",
    "# Medication on and off converted to 1 and -1\n",
    "dataset_tdcsfog_sub_test = dataset_tdcsfog_sub_test.replace('on',1)\n",
    "dataset_tdcsfog_sub_test = dataset_tdcsfog_sub_test.replace('off',-1)\n",
    "\n",
    "# dataset_tdcsfog_sub_test.to_csv('test_tdcsfog_m.csv',index=False)\n",
    "# dataset_tdcsfog_sub_test"
   ]
  },
  {
   "cell_type": "code",
   "execution_count": null,
   "id": "fb915f54-f8af-4fb9-bc1c-b11c25df2c3c",
   "metadata": {
    "tags": []
   },
   "outputs": [],
   "source": [
    "test_tdcsfog = dataset_tdcsfog_sub_test.drop(['Subject','ID'],axis=1)\n",
    "test_tdcsfog = test_tdcsfog.reset_index(drop=True)\n",
    "test_tdcsfog = test_tdcsfog.astype('float64')\n",
    "X_test_tdcsfog = test_tdcsfog[mod_cols]\n",
    "\n",
    "# Remove NaN\n",
    "X_test_tdcsfog = X_test_tdcsfog.dropna()\n",
    "\n",
    "X_test_tdcsfog"
   ]
  },
  {
   "cell_type": "markdown",
   "id": "f6e1bea8-4117-4c1c-9a1d-a3c2bd5824d7",
   "metadata": {},
   "source": [
    "## Model"
   ]
  },
  {
   "cell_type": "markdown",
   "id": "af22202f-7187-468c-bd93-1c6955c3512a",
   "metadata": {},
   "source": [
    "#### XGBoost defog"
   ]
  },
  {
   "cell_type": "code",
   "execution_count": null,
   "id": "c14d6758-80a4-4d91-ae7b-051135f5f742",
   "metadata": {
    "tags": []
   },
   "outputs": [],
   "source": [
    "xg_defog = xgboost.XGBClassifier(n_jobs=20)\n",
    "xg_defog.fit(X_train_defog[mod_cols],y_train_defog)"
   ]
  },
  {
   "cell_type": "code",
   "execution_count": null,
   "id": "43458b2b-f9ff-496e-8915-8148ef063018",
   "metadata": {
    "tags": []
   },
   "outputs": [],
   "source": [
    "y_pred_defog = xg_defog.predict(X_valid_defog[mod_cols])\n",
    "tcol = np.zeros((len(y_pred_defog),1))\n",
    "tmat = np.hstack((tcol, y_pred_defog))\n",
    "tmat[:,0] = 1 - (tmat[:,1]+tmat[:,2]+tmat[:,3])\n",
    "y_pred_defog = tmat\n",
    "\n",
    "y_pred_val = np.argmax(y_pred_defog,axis=1)\n",
    "\n",
    "y_valid_defog_np = y_valid_defog\n",
    "tcol = np.zeros((len(y_valid_defog_np),1))\n",
    "tmat = np.hstack((tcol, y_valid_defog_np))\n",
    "tmat[:,0] = 1 - (tmat[:,1]+tmat[:,2]+tmat[:,3])\n",
    "y_pred_defog_np = tmat\n",
    "y_valid_val = np.argmax(y_valid_defog_np,axis=1)\n",
    "\n",
    "print('Accuracy: ',metrics.accuracy_score(y_valid_val,y_pred_val))"
   ]
  },
  {
   "cell_type": "code",
   "execution_count": null,
   "id": "9ae32717-980a-4eda-be01-1e85d93b5746",
   "metadata": {
    "tags": []
   },
   "outputs": [],
   "source": [
    "xg_defog_all = xgboost.XGBClassifier(n_jobs=20)\n",
    "xg_defog_all.fit(X_defog[mod_cols],y_defog)"
   ]
  },
  {
   "cell_type": "markdown",
   "id": "4dbf1dee-e6ca-4aa4-b92c-ecc95715a456",
   "metadata": {},
   "source": [
    "#### XGBoost tdcsfog"
   ]
  },
  {
   "cell_type": "code",
   "execution_count": null,
   "id": "dcb78d85-004c-4dd6-b250-7258cf624e32",
   "metadata": {
    "tags": []
   },
   "outputs": [],
   "source": [
    "xg_tdcsfog = xgboost.XGBClassifier(n_jobs=20)\n",
    "xg_tdcsfog.fit(X_train_tdcsfog[mod_cols],y_train_tdcsfog)"
   ]
  },
  {
   "cell_type": "code",
   "execution_count": null,
   "id": "2d8599f4-df66-4688-9899-cff595a8f409",
   "metadata": {
    "tags": []
   },
   "outputs": [],
   "source": [
    "y_pred_tdcsfog = xg_tdcsfog.predict(X_valid_tdcsfog[mod_cols])\n",
    "tcol = np.zeros((len(y_pred_tdcsfog),1))\n",
    "tmat = np.hstack((tcol, y_pred_tdcsfog))\n",
    "tmat[:,0] = 1 - (tmat[:,1]+tmat[:,2]+tmat[:,3])\n",
    "y_pred_tdcsfog = tmat\n",
    "\n",
    "y_pred_val = np.argmax(y_pred_tdcsfog,axis=1)\n",
    "\n",
    "y_valid_tdcsfog_np = y_valid_tdcsfog\n",
    "tcol = np.zeros((len(y_valid_tdcsfog_np),1))\n",
    "tmat = np.hstack((tcol, y_valid_tdcsfog_np))\n",
    "tmat[:,0] = 1 - (tmat[:,1]+tmat[:,2]+tmat[:,3])\n",
    "y_pred_tdcsfog_np = tmat\n",
    "y_valid_val = np.argmax(y_valid_tdcsfog_np,axis=1)\n",
    "\n",
    "print('Accuracy: ',metrics.accuracy_score(y_valid_val,y_pred_val))"
   ]
  },
  {
   "cell_type": "code",
   "execution_count": null,
   "id": "9e30059f-e4ec-4fa4-9653-957f5d788de1",
   "metadata": {
    "tags": []
   },
   "outputs": [],
   "source": [
    "xg_tdcsfog_all = xgboost.XGBClassifier(n_jobs=20)\n",
    "xg_tdcsfog_all.fit(X_tdcsfog[mod_cols],y_tdcsfog)"
   ]
  },
  {
   "cell_type": "markdown",
   "id": "b227a533-a389-4d9d-b555-87670a1b4319",
   "metadata": {},
   "source": [
    "## Prediction"
   ]
  },
  {
   "cell_type": "code",
   "execution_count": null,
   "id": "7eb97898-246a-405d-a715-b204bcfbf5eb",
   "metadata": {
    "tags": []
   },
   "outputs": [],
   "source": [
    "y_pred_defog_test = xg_defog_all.predict(X_test_defog[mod_cols])\n",
    "\n",
    "y_pred_defog_test = pd.DataFrame(y_pred_defog_test,columns=['StartHesitation', 'Turn', 'Walking'])\n",
    "\n",
    "y_pred_defog_test['Id'] = dataset_defog_sub_test['ID'].astype('str')+'_'+dataset_defog_sub_test['Time'].astype('str')\n",
    "\n",
    "y_pred_defog_test = y_pred_defog_test[['Id','StartHesitation', 'Turn', 'Walking']]\n",
    "\n",
    "y_pred_defog_test"
   ]
  },
  {
   "cell_type": "code",
   "execution_count": null,
   "id": "a26c37ad-8db4-4307-9c1f-e03b6552c947",
   "metadata": {
    "tags": []
   },
   "outputs": [],
   "source": [
    "y_pred_tdcsfog_test = xg_tdcsfog_all.predict(X_test_tdcsfog[mod_cols])\n",
    "\n",
    "y_pred_tdcsfog_test = pd.DataFrame(y_pred_tdcsfog_test,columns=['StartHesitation', 'Turn', 'Walking'])\n",
    "\n",
    "y_pred_tdcsfog_test['Id'] = dataset_tdcsfog_sub_test['ID'].astype('str')+'_'+dataset_tdcsfog_sub_test['Time'].astype('str')\n",
    "\n",
    "y_pred_tdcsfog_test = y_pred_tdcsfog_test[['Id','StartHesitation', 'Turn', 'Walking']]\n",
    "\n",
    "y_pred_tdcsfog_test"
   ]
  },
  {
   "cell_type": "code",
   "execution_count": null,
   "id": "f6f6818b-3c32-4133-b71b-a210035b084a",
   "metadata": {
    "tags": []
   },
   "outputs": [],
   "source": [
    "y_pred_test = pd.concat([y_pred_defog_test,y_pred_tdcsfog_test])\n",
    "y_pred_test.to_csv('submission.csv',index=False)\n",
    "y_pred_test"
   ]
  },
  {
   "cell_type": "code",
   "execution_count": null,
   "id": "5a1ceeea-fd1e-4fe8-ad67-fb77d7142b75",
   "metadata": {},
   "outputs": [],
   "source": []
  }
 ],
 "metadata": {
  "kernelspec": {
   "display_name": "Python 3 (ipykernel)",
   "language": "python",
   "name": "python3"
  },
  "language_info": {
   "codemirror_mode": {
    "name": "ipython",
    "version": 3
   },
   "file_extension": ".py",
   "mimetype": "text/x-python",
   "name": "python",
   "nbconvert_exporter": "python",
   "pygments_lexer": "ipython3",
   "version": "3.10.6"
  }
 },
 "nbformat": 4,
 "nbformat_minor": 5
}
